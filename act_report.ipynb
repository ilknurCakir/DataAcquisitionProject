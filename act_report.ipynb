{
 "cells": [
  {
   "cell_type": "markdown",
   "metadata": {},
   "source": [
    "@dog_rates Twitter account, also known as WeRateDogs rates peoples' dogs from pictures. This report gives insights and conclusions drawn from the analysis of the data that includes image predictions of the pictures posted from this Twitter account and enhanced tweet data including information about text, time of the tweet, and some variables extracted from text of the tweet like name of the dog, and dog stage. Dog stage classifcation is invented by the account user and include 4 stages: doggo; big, usually older dog, puppo; younger dog, pupper; teenager dog and floofer; dogs with seemingly excess fur. \n",
    "\n",
    "\n",
    "Figure 1 shows the number of dogs at each stage. Not all tweets include dog stage, only 16% of tweets have information about dog stage; if the dog is doggo, floofer, puppo or pupper. Around 230 of them are pupper and there are around 90 dogs that are doggo. The number of dogs in puppo and floofer stages constitutes a small share in total."
   ]
  },
  {
   "cell_type": "markdown",
   "metadata": {},
   "source": [
    "![Figure 1](1st_upt.png)"
   ]
  },
  {
   "cell_type": "markdown",
   "metadata": {},
   "source": [
    "\n",
    "Figure 2 shows the distribution of image predictions among different dog breeds. Assuming picture predictions are correct most of the time (after excluding non-dog predictions), it is seen that 9.4% of pictures are Golden Retrievers. It is followed by Labrador Retriever with 6.5%. Pembroke has the third place. 6% of posted pictures is Pembroke. The graph shows the ranking and relative frequencies by dog breed. Only dog breeds with at least 20 pictures are shown since otherwise there would be too many dog breeds to show on the graph."
   ]
  },
  {
   "cell_type": "markdown",
   "metadata": {},
   "source": [
    "![Figure 2](6th.png)"
   ]
  },
  {
   "cell_type": "markdown",
   "metadata": {},
   "source": [
    "\n",
    "Since there are relatively many dogs at pupper stage, it would be nice to look at dog breeds at this dog stage. Figure 3 shows the image predictions of dogs in pupper stage. According to the graph, 16 puppers are Golden Retriever, 10 of them are Pembroke and 8 puppers are Labrador Retriever and Pug. "
   ]
  },
  {
   "cell_type": "markdown",
   "metadata": {},
   "source": [
    "![Figure 3](4th.png)"
   ]
  },
  {
   "cell_type": "markdown",
   "metadata": {},
   "source": [
    "\n",
    "When we look at which dog breed gets the highest average rating, we see that they are Salukis. The mean ranking is around 12.5/10. Then come Briard and Tibetan Mastiff. The top 15 dog breed in this rating gets more than 11.5/10 on average. The graph in Figure 4 shows the top 15 dog breeds and their average ratings from WeRateDogs account."
   ]
  },
  {
   "cell_type": "markdown",
   "metadata": {},
   "source": [
    "![Figure 4](7th.png)"
   ]
  },
  {
   "cell_type": "markdown",
   "metadata": {},
   "source": [
    "\n",
    "Figure 5 gives the first 10 dog breeds with the lowest average rating. Japanese Spaniel gets the lowest average rating which is around 5/10. It is followed by Bizan Hound, Norwich Terrier and Scotch Terrier. All 10 except Japanese Spaniel get on average around 9 and there is no dog that gets lower than 5 out of 10. "
   ]
  },
  {
   "cell_type": "markdown",
   "metadata": {},
   "source": [
    "![Figure 5](8th.png)"
   ]
  }
 ],
 "metadata": {
  "kernelspec": {
   "display_name": "Python 3",
   "language": "python",
   "name": "python3"
  },
  "language_info": {
   "codemirror_mode": {
    "name": "ipython",
    "version": 3
   },
   "file_extension": ".py",
   "mimetype": "text/x-python",
   "name": "python",
   "nbconvert_exporter": "python",
   "pygments_lexer": "ipython3",
   "version": "3.6.5"
  }
 },
 "nbformat": 4,
 "nbformat_minor": 2
}
